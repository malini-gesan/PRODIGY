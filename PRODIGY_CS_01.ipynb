{
  "nbformat": 4,
  "nbformat_minor": 0,
  "metadata": {
    "colab": {
      "provenance": []
    },
    "kernelspec": {
      "name": "python3",
      "display_name": "Python 3"
    },
    "language_info": {
      "name": "python"
    }
  },
  "cells": [
    {
      "cell_type": "code",
      "source": [
        "def caesar_cipher(text, shift, encrypt=True):\n",
        "    result = \"\"\n",
        "  # Adjust the shift for decryption\n",
        "    if not encrypt:\n",
        "        shift = -shift\n",
        " # Iterate over each character in the text\n",
        "    for char in text:\n",
        "        # Check if the character is an uppercase letter\n",
        "        if char.isupper():\n",
        "            # Shift character and wrap around the alphabet\n",
        "            result += chr((ord(char) + shift - 65) % 26 + 65)\n",
        "        # Check if the character is a lowercase letter\n",
        "        elif char.islower():\n",
        "            # Shift character and wrap around the alphabet\n",
        "            result += chr((ord(char) + shift - 97) % 26 + 97)\n",
        "        else:\n",
        "            # Non-alphabetic characters are not changed\n",
        "            result += char\n",
        "    return result # Indented to match the for loop\n",
        "\n",
        "# Get the user input\n",
        "message = input(\"Enter your message: \")\n",
        "shift = int(input(\"Enter the shift value: \"))\n",
        "mode = input(\"Type 'encrypt' to encrypt or 'decrypt' to decrypt: \").strip().lower()\n",
        "# Determine if we are encrypting or decrypting\n",
        "if mode == 'encrypt':\n",
        "    encrypted_message = caesar_cipher(message, shift, encrypt=True)\n",
        "    print(\"Encrypted Message: \", encrypted_message)\n",
        "elif mode == 'decrypt':\n",
        "    decrypted_message = caesar_cipher(message, shift, encrypt=False)\n",
        "    print(\"Decrypted Message: \", decrypted_message)"
      ],
      "metadata": {
        "colab": {
          "base_uri": "https://localhost:8080/"
        },
        "id": "2HyCskymrXWe",
        "outputId": "be4ac34b-5913-4c0f-9fd0-b657293adcd6"
      },
      "execution_count": null,
      "outputs": [
        {
          "output_type": "stream",
          "name": "stdout",
          "text": [
            "Enter your message: raja\n",
            "Enter the shift value: 2\n",
            "Type 'encrypt' to encrypt or 'decrypt' to decrypt: encrypt\n",
            "Encrypted Message:  tclc\n"
          ]
        }
      ]
    }
  ]
}